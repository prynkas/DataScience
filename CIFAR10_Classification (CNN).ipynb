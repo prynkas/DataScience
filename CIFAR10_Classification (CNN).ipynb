{
 "cells": [
  {
   "cell_type": "code",
   "execution_count": null,
   "metadata": {
    "id": "dkwE5PBQmPZA"
   },
   "outputs": [],
   "source": [
    "import numpy as np\n",
    "import tensorflow as tf\n",
    "from tensorflow.keras.datasets import cifar10  #importing cifar10 dataset\n",
    "from tensorflow.keras.models import Sequential\n",
    "from tensorflow.keras.layers import Conv2D, MaxPooling2D, Flatten, Dense\n",
    "import matplotlib.pyplot as plt"
   ]
  },
  {
   "cell_type": "code",
   "execution_count": null,
   "metadata": {
    "colab": {
     "base_uri": "https://localhost:8080/"
    },
    "id": "TlA1UNxVtJ72",
    "outputId": "60b0173c-7e2b-462c-feeb-24eef9c09fc4"
   },
   "outputs": [
    {
     "name": "stdout",
     "output_type": "stream",
     "text": [
      "Downloading data from https://www.cs.toronto.edu/~kriz/cifar-10-python.tar.gz\n",
      "170498071/170498071 [==============================] - 3s 0us/step\n"
     ]
    }
   ],
   "source": [
    "#Load and preprocess the CIFAR-10 dataset\n",
    "(x_train, y_train), (x_test, y_test) = cifar10.load_data()\n",
    "x_train = x_train / 255.0   #scaling down xtrain & xtest data divide by 255\n",
    "x_test = x_test / 255.0     #255.0 gives float value"
   ]
  },
  {
   "cell_type": "code",
   "execution_count": null,
   "metadata": {
    "id": "HevQe143tMT7"
   },
   "outputs": [],
   "source": [
    "#class labels for CIFAR-10\n",
    "class_labels = ['airplane', 'automobile','bird','cat','deer','dog','frog','horse','ship','truck']"
   ]
  },
  {
   "cell_type": "code",
   "execution_count": null,
   "metadata": {
    "id": "YSYu9r7QtqWl"
   },
   "outputs": [],
   "source": [
    "#Define the CNN model architecture\n",
    "#In first conv2d(convolution layer) there will be total 32 filters and size of each filter will be (3,3))\n",
    "#In second conv2d(convolution layer) there will be total 64 filters and size of each filter will be (3,3))\n",
    "#First Dense means fully connected network in which neurons will be 128.\n",
    "#Second Dense means output layer in which total neurons will be 10 as given list in classs_labels\n",
    "#In output layer if its a multiclassification problem then softmax activation\n",
    "\n",
    "model = Sequential([\n",
    "    Conv2D(32, (3,3), activation='relu', input_shape=(32,32,3)),\n",
    "    MaxPooling2D((2,2,)),\n",
    "    Conv2D(64, (3,3), activation='relu'),\n",
    "    MaxPooling2D((2,2)),\n",
    "    Flatten(),\n",
    "    Dense(128, activation='relu'),\n",
    "    Dense(10, activation='softmax')\n",
    "])"
   ]
  },
  {
   "cell_type": "code",
   "execution_count": null,
   "metadata": {
    "id": "xWLhS4UtuvQ1"
   },
   "outputs": [],
   "source": [
    "#Compile the model\n",
    "#Appling sparse_categorical_crossentropy in case of multiclassification\n",
    "model.compile(optimizer='adam',\n",
    "              loss='sparse_categorical_crossentropy',\n",
    "              metrics=['accuracy'])"
   ]
  },
  {
   "cell_type": "code",
   "execution_count": null,
   "metadata": {
    "colab": {
     "base_uri": "https://localhost:8080/"
    },
    "id": "YwoiaVclvQsC",
    "outputId": "d26d8c5b-c7fe-429a-93b3-dfd5f4b47f8e"
   },
   "outputs": [
    {
     "name": "stdout",
     "output_type": "stream",
     "text": [
      "Epoch 1/5\n",
      "782/782 [==============================] - 69s 86ms/step - loss: 1.5190 - accuracy: 0.4551\n",
      "Epoch 2/5\n",
      "782/782 [==============================] - 64s 82ms/step - loss: 1.1595 - accuracy: 0.5911\n",
      "Epoch 3/5\n",
      "782/782 [==============================] - 66s 85ms/step - loss: 1.0139 - accuracy: 0.6463\n",
      "Epoch 4/5\n",
      "782/782 [==============================] - 67s 85ms/step - loss: 0.9221 - accuracy: 0.6805\n",
      "Epoch 5/5\n",
      "782/782 [==============================] - 67s 86ms/step - loss: 0.8518 - accuracy: 0.7048\n"
     ]
    },
    {
     "data": {
      "text/plain": [
       "<keras.src.callbacks.History at 0x7abf028ccd30>"
      ]
     },
     "execution_count": 8,
     "metadata": {},
     "output_type": "execute_result"
    }
   ],
   "source": [
    "#Train the model\n",
    "#epochs means total iteration\n",
    "#batch_size means in each iteration there will be 64 batches\n",
    "model.fit(x_train, y_train, epochs=5, batch_size=64)"
   ]
  },
  {
   "cell_type": "code",
   "execution_count": null,
   "metadata": {
    "colab": {
     "base_uri": "https://localhost:8080/"
    },
    "id": "JgCo7jvlvboo",
    "outputId": "ba0e9110-feac-41a4-e740-97ebbc828ad8"
   },
   "outputs": [
    {
     "name": "stdout",
     "output_type": "stream",
     "text": [
      "313/313 [==============================] - 4s 13ms/step - loss: 0.9490 - accuracy: 0.6671\n",
      "Test accuracy : 0.6671000123023987\n"
     ]
    }
   ],
   "source": [
    "#Evaluate the model on test data\n",
    "#Checking how the model preforms on test data\n",
    "test_loss, test_acc = model.evaluate(x_test, y_test)\n",
    "print(f'Test accuracy : {test_acc}')"
   ]
  },
  {
   "cell_type": "code",
   "execution_count": null,
   "metadata": {
    "id": "gUKgGvFSwRGx"
   },
   "outputs": [],
   "source": [
    "#Choose a single image from the test set\n",
    "index = 6  #Replace with the index of the image you want to use\n",
    "single_image = x_test[index:index+1] #0+1 hoga jo image choose karenge , if 6 the 6+1=7 toh 7th image choose hoga or else sirf index bhi pass kar sakte h"
   ]
  },
  {
   "cell_type": "code",
   "execution_count": null,
   "metadata": {
    "colab": {
     "base_uri": "https://localhost:8080/"
    },
    "id": "NAgO0siYxe_x",
    "outputId": "1912bf13-b519-4a27-a493-e13db8c05d19"
   },
   "outputs": [
    {
     "name": "stdout",
     "output_type": "stream",
     "text": [
      "1/1 [==============================] - 0s 30ms/step\n"
     ]
    }
   ],
   "source": [
    "#Get the predicted PROBABILITIES FOR THE SINGLE IMAGE\n",
    "predicted_probabilities = model.predict(single_image)"
   ]
  },
  {
   "cell_type": "code",
   "execution_count": null,
   "metadata": {
    "id": "3HtNxTG4wyNH"
   },
   "outputs": [],
   "source": [
    "#Get the predicted class (index with highest probability)\n",
    "predicted_class = np.argmax(predicted_probabilities) #it will take max probability value outoff all probabilities\n",
    "predicted_label = class_labels[predicted_class]  #predicted_label will store object with highest probability"
   ]
  },
  {
   "cell_type": "code",
   "execution_count": null,
   "metadata": {
    "colab": {
     "base_uri": "https://localhost:8080/",
     "height": 406
    },
    "id": "KgZwOJ_5xy7u",
    "outputId": "ee99460c-af9f-4f0a-e1e5-0c664ab7eae2"
   },
   "outputs": [
    {
     "data": {
      "image/png": "[encoded data removed]",
      "text/plain": [
       "<Figure size 640x480 with 1 Axes>"
      ]
     },
     "metadata": {},
     "output_type": "display_data"
    }
   ],
   "source": [
    "#Display the input image\n",
    "plt.imshow(single_image.reshape(32,32,3))\n",
    "plt.title=(f\"Predicted Class: {predicted_label}\")\n",
    "plt.axis('off')\n",
    "plt.show()"
   ]
  },
  {
   "cell_type": "code",
   "execution_count": null,
   "metadata": {
    "colab": {
     "base_uri": "https://localhost:8080/"
    },
    "id": "wx9CLLU8yL2g",
    "outputId": "9dff5389-bd57-4979-a725-86592c0fa436"
   },
   "outputs": [
    {
     "name": "stdout",
     "output_type": "stream",
     "text": [
      "Predicted probabilities: [[1.1006843e-03 9.7356105e-01 8.5488995e-05 2.4148086e-04 3.1122024e-06\n",
      "  3.3381453e-04 1.3539441e-04 3.1361990e-06 3.4891596e-06 2.4532327e-02]]\n"
     ]
    }
   ],
   "source": [
    "#Display the predicted probabilities\n",
    "print('Predicted probabilities:', predicted_probabilities)"
   ]
  },
  {
   "cell_type": "code",
   "execution_count": null,
   "metadata": {
    "id": "TKadhe1uzI7j"
   },
   "outputs": [],
   "source": []
  }
 ],
 "metadata": {
  "colab": {
   "provenance": []
  },
  "kernelspec": {
   "display_name": "Python 3 (ipykernel)",
   "language": "python",
   "name": "python3"
  },
  "language_info": {
   "codemirror_mode": {
    "name": "ipython",
    "version": 3
   },
   "file_extension": ".py",
   "mimetype": "text/x-python",
   "name": "python",
   "nbconvert_exporter": "python",
   "pygments_lexer": "ipython3",
   "version": "3.9.13"
  }
 },
 "nbformat": 4,
 "nbformat_minor": 1
}
